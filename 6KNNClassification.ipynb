{
 "cells": [
  {
   "cell_type": "code",
   "execution_count": 1,
   "metadata": {},
   "outputs": [],
   "source": [
    "import os\n",
    "import time\n",
    "import numpy as np\n",
    "import pandas as pd\n",
    "from sklearn.metrics import accuracy_score\n",
    "from sklearn.model_selection import GridSearchCV\n",
    "from sklearn.neighbors import KNeighborsClassifier"
   ]
  },
  {
   "cell_type": "code",
   "execution_count": 2,
   "metadata": {},
   "outputs": [],
   "source": [
    "x = \"BFCCTrain.xlsx\"\n",
    "y = \"BFCCTest.xlsx\""
   ]
  },
  {
   "cell_type": "code",
   "execution_count": 3,
   "metadata": {},
   "outputs": [],
   "source": [
    "def klasifikasiKNN():\n",
    "    path1 = x\n",
    "    path2 = y\n",
    "\n",
    "    dataset1 = pd.read_excel(path1, header=None)\n",
    "    dataset2 = pd.read_excel(path2, header=None)\n",
    "    \n",
    "    x_train = dataset1.iloc[1:, :40].values\n",
    "    y_train = dataset1.iloc[1:, 40].values\n",
    "\n",
    "    x_test = dataset2.iloc[1:, :40].values\n",
    "    knn = KNeighborsClassifier(n_neighbors=5, weights=\"distance\", metric=\"euclidean\")\n",
    "    knn.fit(x_train, y_train)\n",
    "    klasifikasiDataMentah = knn.predict(x_test)\n",
    "\n",
    "    print (\"Prediksi : \", klasifikasiDataMentah)"
   ]
  },
  {
   "cell_type": "code",
   "execution_count": 4,
   "metadata": {},
   "outputs": [
    {
     "name": "stdout",
     "output_type": "stream",
     "text": [
      "Prediksi :  ['MIDDLE']\n"
     ]
    }
   ],
   "source": [
    "if __name__ == \"__main__\":\n",
    "    klasifikasiKNN()"
   ]
  }
 ],
 "metadata": {
  "kernelspec": {
   "display_name": "Python 3.10.8 64-bit (microsoft store)",
   "language": "python",
   "name": "python3"
  },
  "language_info": {
   "codemirror_mode": {
    "name": "ipython",
    "version": 3
   },
   "file_extension": ".py",
   "mimetype": "text/x-python",
   "name": "python",
   "nbconvert_exporter": "python",
   "pygments_lexer": "ipython3",
   "version": "3.10.9 (tags/v3.10.9:1dd9be6, Dec  6 2022, 20:01:21) [MSC v.1934 64 bit (AMD64)]"
  },
  "orig_nbformat": 4,
  "vscode": {
   "interpreter": {
    "hash": "23c0ecdc2e86ff361471913ca66922a253c3559aaac68f43c725d3278d781e77"
   }
  }
 },
 "nbformat": 4,
 "nbformat_minor": 2
}
